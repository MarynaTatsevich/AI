{
  "nbformat": 4,
  "nbformat_minor": 0,
  "metadata": {
    "colab": {
      "name": "Project 1 - A single neuron model for converting C to F.ipynb",
      "provenance": [],
      "collapsed_sections": [],
      "include_colab_link": true
    },
    "kernelspec": {
      "name": "python3",
      "display_name": "Python 3"
    },
    "accelerator": "GPU"
  },
  "cells": [
    {
      "cell_type": "markdown",
      "metadata": {
        "id": "view-in-github",
        "colab_type": "text"
      },
      "source": [
        "<a href=\"https://colab.research.google.com/github/MarynaTatsevich/AI/blob/master/Project_1_A_single_neuron_model_for_converting_C_to_F.ipynb\" target=\"_parent\"><img src=\"https://colab.research.google.com/assets/colab-badge.svg\" alt=\"Open In Colab\"/></a>"
      ]
    },
    {
      "cell_type": "markdown",
      "metadata": {
        "id": "duOcajdI4EAN",
        "colab_type": "text"
      },
      "source": [
        "# Problem statement\n",
        "In this project, we will build a simple machine learning model to convert from celsius to fahrenheit."
      ]
    },
    {
      "cell_type": "markdown",
      "metadata": {
        "id": "RYdWz0kE4xtL",
        "colab_type": "text"
      },
      "source": [
        "## Step 0: Import libraries"
      ]
    },
    {
      "cell_type": "code",
      "metadata": {
        "id": "qP83NQ3Q4TU6",
        "colab_type": "code",
        "colab": {
          "base_uri": "https://localhost:8080/",
          "height": 581
        },
        "outputId": "fcf781d3-67d3-44f7-c9e1-44b21acc4688"
      },
      "source": [
        "!pip install tensorflow-gpu==2.0.0.alpha0"
      ],
      "execution_count": 3,
      "outputs": [
        {
          "output_type": "stream",
          "text": [
            "Collecting tensorflow-gpu==2.0.0.alpha0\n",
            "\u001b[?25l  Downloading https://files.pythonhosted.org/packages/1a/66/32cffad095253219d53f6b6c2a436637bbe45ac4e7be0244557210dc3918/tensorflow_gpu-2.0.0a0-cp36-cp36m-manylinux1_x86_64.whl (332.1MB)\n",
            "\u001b[K     |████████████████████████████████| 332.1MB 48kB/s \n",
            "\u001b[?25hRequirement already satisfied: six>=1.10.0 in /usr/local/lib/python3.6/dist-packages (from tensorflow-gpu==2.0.0.alpha0) (1.12.0)\n",
            "Requirement already satisfied: astor>=0.6.0 in /usr/local/lib/python3.6/dist-packages (from tensorflow-gpu==2.0.0.alpha0) (0.8.1)\n",
            "Collecting tf-estimator-nightly<1.14.0.dev2019030116,>=1.14.0.dev2019030115\n",
            "\u001b[?25l  Downloading https://files.pythonhosted.org/packages/13/82/f16063b4eed210dc2ab057930ac1da4fbe1e91b7b051a6c8370b401e6ae7/tf_estimator_nightly-1.14.0.dev2019030115-py2.py3-none-any.whl (411kB)\n",
            "\u001b[K     |████████████████████████████████| 419kB 52.7MB/s \n",
            "\u001b[?25hRequirement already satisfied: numpy<2.0,>=1.14.5 in /usr/local/lib/python3.6/dist-packages (from tensorflow-gpu==2.0.0.alpha0) (1.17.5)\n",
            "Requirement already satisfied: gast>=0.2.0 in /usr/local/lib/python3.6/dist-packages (from tensorflow-gpu==2.0.0.alpha0) (0.2.2)\n",
            "Requirement already satisfied: google-pasta>=0.1.2 in /usr/local/lib/python3.6/dist-packages (from tensorflow-gpu==2.0.0.alpha0) (0.1.8)\n",
            "Requirement already satisfied: keras-preprocessing>=1.0.5 in /usr/local/lib/python3.6/dist-packages (from tensorflow-gpu==2.0.0.alpha0) (1.1.0)\n",
            "Requirement already satisfied: protobuf>=3.6.1 in /usr/local/lib/python3.6/dist-packages (from tensorflow-gpu==2.0.0.alpha0) (3.10.0)\n",
            "Requirement already satisfied: absl-py>=0.7.0 in /usr/local/lib/python3.6/dist-packages (from tensorflow-gpu==2.0.0.alpha0) (0.9.0)\n",
            "Collecting tb-nightly<1.14.0a20190302,>=1.14.0a20190301\n",
            "\u001b[?25l  Downloading https://files.pythonhosted.org/packages/a9/51/aa1d756644bf4624c03844115e4ac4058eff77acd786b26315f051a4b195/tb_nightly-1.14.0a20190301-py3-none-any.whl (3.0MB)\n",
            "\u001b[K     |████████████████████████████████| 3.0MB 56.6MB/s \n",
            "\u001b[?25hRequirement already satisfied: termcolor>=1.1.0 in /usr/local/lib/python3.6/dist-packages (from tensorflow-gpu==2.0.0.alpha0) (1.1.0)\n",
            "Requirement already satisfied: grpcio>=1.8.6 in /usr/local/lib/python3.6/dist-packages (from tensorflow-gpu==2.0.0.alpha0) (1.15.0)\n",
            "Requirement already satisfied: wheel>=0.26 in /usr/local/lib/python3.6/dist-packages (from tensorflow-gpu==2.0.0.alpha0) (0.33.6)\n",
            "Requirement already satisfied: keras-applications>=1.0.6 in /usr/local/lib/python3.6/dist-packages (from tensorflow-gpu==2.0.0.alpha0) (1.0.8)\n",
            "Requirement already satisfied: setuptools in /usr/local/lib/python3.6/dist-packages (from protobuf>=3.6.1->tensorflow-gpu==2.0.0.alpha0) (42.0.2)\n",
            "Requirement already satisfied: markdown>=2.6.8 in /usr/local/lib/python3.6/dist-packages (from tb-nightly<1.14.0a20190302,>=1.14.0a20190301->tensorflow-gpu==2.0.0.alpha0) (3.1.1)\n",
            "Requirement already satisfied: werkzeug>=0.11.15 in /usr/local/lib/python3.6/dist-packages (from tb-nightly<1.14.0a20190302,>=1.14.0a20190301->tensorflow-gpu==2.0.0.alpha0) (0.16.0)\n",
            "Requirement already satisfied: h5py in /usr/local/lib/python3.6/dist-packages (from keras-applications>=1.0.6->tensorflow-gpu==2.0.0.alpha0) (2.8.0)\n",
            "Installing collected packages: tf-estimator-nightly, tb-nightly, tensorflow-gpu\n",
            "Successfully installed tb-nightly-1.14.0a20190301 tensorflow-gpu-2.0.0a0 tf-estimator-nightly-1.14.0.dev2019030115\n"
          ],
          "name": "stdout"
        },
        {
          "output_type": "display_data",
          "data": {
            "application/vnd.colab-display-data+json": {
              "pip_warning": {
                "packages": [
                  "tensorboard",
                  "tensorflow",
                  "tensorflow_estimator"
                ]
              }
            }
          },
          "metadata": {
            "tags": []
          }
        }
      ]
    },
    {
      "cell_type": "code",
      "metadata": {
        "id": "c7dgUzvg6CPh",
        "colab_type": "code",
        "colab": {}
      },
      "source": [
        "import tensorflow as tf\n",
        "import pandas as pd\n",
        "import numpy as np\n",
        "import seaborn as sns\n",
        "import matplotlib.pyplot as plt"
      ],
      "execution_count": 0,
      "outputs": []
    },
    {
      "cell_type": "markdown",
      "metadata": {
        "id": "gviXZ0y-EHFq",
        "colab_type": "text"
      },
      "source": [
        "## Step 1: Import dataset"
      ]
    },
    {
      "cell_type": "code",
      "metadata": {
        "id": "urM9N4Y2_yR6",
        "colab_type": "code",
        "colab": {
          "base_uri": "https://localhost:8080/",
          "height": 122
        },
        "outputId": "72cfd164-4d37-4a9c-a781-b3c49d95c658"
      },
      "source": [
        "from google.colab import drive\n",
        "drive.mount('/content/drive')"
      ],
      "execution_count": 3,
      "outputs": [
        {
          "output_type": "stream",
          "text": [
            "Go to this URL in a browser: https://accounts.google.com/o/oauth2/auth?client_id=947318989803-6bn6qk8qdgf4n4g3pfee6491hc0brc4i.apps.googleusercontent.com&redirect_uri=urn%3aietf%3awg%3aoauth%3a2.0%3aoob&response_type=code&scope=email%20https%3a%2f%2fwww.googleapis.com%2fauth%2fdocs.test%20https%3a%2f%2fwww.googleapis.com%2fauth%2fdrive%20https%3a%2f%2fwww.googleapis.com%2fauth%2fdrive.photos.readonly%20https%3a%2f%2fwww.googleapis.com%2fauth%2fpeopleapi.readonly\n",
            "\n",
            "Enter your authorization code:\n",
            "··········\n",
            "Mounted at /content/drive\n"
          ],
          "name": "stdout"
        }
      ]
    },
    {
      "cell_type": "code",
      "metadata": {
        "id": "hO_Ik3WNBOQ1",
        "colab_type": "code",
        "colab": {}
      },
      "source": [
        "df = pd.read_csv('/content/drive/My Drive/Colab Notebooks/Celsius-To-Fahrenheit.csv')"
      ],
      "execution_count": 0,
      "outputs": []
    },
    {
      "cell_type": "code",
      "metadata": {
        "id": "qpZibDWDC0-f",
        "colab_type": "code",
        "colab": {
          "base_uri": "https://localhost:8080/",
          "height": 204
        },
        "outputId": "b223a7c5-03aa-4b0b-cf95-e9b959f629cb"
      },
      "source": [
        "df.head()"
      ],
      "execution_count": 6,
      "outputs": [
        {
          "output_type": "execute_result",
          "data": {
            "text/html": [
              "<div>\n",
              "<style scoped>\n",
              "    .dataframe tbody tr th:only-of-type {\n",
              "        vertical-align: middle;\n",
              "    }\n",
              "\n",
              "    .dataframe tbody tr th {\n",
              "        vertical-align: top;\n",
              "    }\n",
              "\n",
              "    .dataframe thead th {\n",
              "        text-align: right;\n",
              "    }\n",
              "</style>\n",
              "<table border=\"1\" class=\"dataframe\">\n",
              "  <thead>\n",
              "    <tr style=\"text-align: right;\">\n",
              "      <th></th>\n",
              "      <th>Celsius</th>\n",
              "      <th>Fahrenheit</th>\n",
              "    </tr>\n",
              "  </thead>\n",
              "  <tbody>\n",
              "    <tr>\n",
              "      <th>0</th>\n",
              "      <td>-50</td>\n",
              "      <td>-58.0</td>\n",
              "    </tr>\n",
              "    <tr>\n",
              "      <th>1</th>\n",
              "      <td>-40</td>\n",
              "      <td>-40.0</td>\n",
              "    </tr>\n",
              "    <tr>\n",
              "      <th>2</th>\n",
              "      <td>-30</td>\n",
              "      <td>-22.0</td>\n",
              "    </tr>\n",
              "    <tr>\n",
              "      <th>3</th>\n",
              "      <td>-20</td>\n",
              "      <td>-4.0</td>\n",
              "    </tr>\n",
              "    <tr>\n",
              "      <th>4</th>\n",
              "      <td>-10</td>\n",
              "      <td>14.0</td>\n",
              "    </tr>\n",
              "  </tbody>\n",
              "</table>\n",
              "</div>"
            ],
            "text/plain": [
              "   Celsius  Fahrenheit\n",
              "0      -50       -58.0\n",
              "1      -40       -40.0\n",
              "2      -30       -22.0\n",
              "3      -20        -4.0\n",
              "4      -10        14.0"
            ]
          },
          "metadata": {
            "tags": []
          },
          "execution_count": 6
        }
      ]
    },
    {
      "cell_type": "code",
      "metadata": {
        "id": "V7HFnauDDLEt",
        "colab_type": "code",
        "colab": {
          "base_uri": "https://localhost:8080/",
          "height": 359
        },
        "outputId": "70e05dda-15b2-4821-c407-b7c894b7a8de"
      },
      "source": [
        "df.tail(10)"
      ],
      "execution_count": 7,
      "outputs": [
        {
          "output_type": "execute_result",
          "data": {
            "text/html": [
              "<div>\n",
              "<style scoped>\n",
              "    .dataframe tbody tr th:only-of-type {\n",
              "        vertical-align: middle;\n",
              "    }\n",
              "\n",
              "    .dataframe tbody tr th {\n",
              "        vertical-align: top;\n",
              "    }\n",
              "\n",
              "    .dataframe thead th {\n",
              "        text-align: right;\n",
              "    }\n",
              "</style>\n",
              "<table border=\"1\" class=\"dataframe\">\n",
              "  <thead>\n",
              "    <tr style=\"text-align: right;\">\n",
              "      <th></th>\n",
              "      <th>Celsius</th>\n",
              "      <th>Fahrenheit</th>\n",
              "    </tr>\n",
              "  </thead>\n",
              "  <tbody>\n",
              "    <tr>\n",
              "      <th>20</th>\n",
              "      <td>6</td>\n",
              "      <td>42.8</td>\n",
              "    </tr>\n",
              "    <tr>\n",
              "      <th>21</th>\n",
              "      <td>7</td>\n",
              "      <td>44.6</td>\n",
              "    </tr>\n",
              "    <tr>\n",
              "      <th>22</th>\n",
              "      <td>8</td>\n",
              "      <td>46.4</td>\n",
              "    </tr>\n",
              "    <tr>\n",
              "      <th>23</th>\n",
              "      <td>9</td>\n",
              "      <td>48.2</td>\n",
              "    </tr>\n",
              "    <tr>\n",
              "      <th>24</th>\n",
              "      <td>10</td>\n",
              "      <td>50.0</td>\n",
              "    </tr>\n",
              "    <tr>\n",
              "      <th>25</th>\n",
              "      <td>20</td>\n",
              "      <td>68.0</td>\n",
              "    </tr>\n",
              "    <tr>\n",
              "      <th>26</th>\n",
              "      <td>30</td>\n",
              "      <td>86.0</td>\n",
              "    </tr>\n",
              "    <tr>\n",
              "      <th>27</th>\n",
              "      <td>40</td>\n",
              "      <td>104.0</td>\n",
              "    </tr>\n",
              "    <tr>\n",
              "      <th>28</th>\n",
              "      <td>50</td>\n",
              "      <td>122.0</td>\n",
              "    </tr>\n",
              "    <tr>\n",
              "      <th>29</th>\n",
              "      <td>60</td>\n",
              "      <td>140.0</td>\n",
              "    </tr>\n",
              "  </tbody>\n",
              "</table>\n",
              "</div>"
            ],
            "text/plain": [
              "    Celsius  Fahrenheit\n",
              "20        6        42.8\n",
              "21        7        44.6\n",
              "22        8        46.4\n",
              "23        9        48.2\n",
              "24       10        50.0\n",
              "25       20        68.0\n",
              "26       30        86.0\n",
              "27       40       104.0\n",
              "28       50       122.0\n",
              "29       60       140.0"
            ]
          },
          "metadata": {
            "tags": []
          },
          "execution_count": 7
        }
      ]
    },
    {
      "cell_type": "code",
      "metadata": {
        "id": "fKCs7DGKDN_z",
        "colab_type": "code",
        "colab": {
          "base_uri": "https://localhost:8080/",
          "height": 297
        },
        "outputId": "e77b6b10-398c-4562-99f0-9f94d83cd6ee"
      },
      "source": [
        "df.describe()"
      ],
      "execution_count": 8,
      "outputs": [
        {
          "output_type": "execute_result",
          "data": {
            "text/html": [
              "<div>\n",
              "<style scoped>\n",
              "    .dataframe tbody tr th:only-of-type {\n",
              "        vertical-align: middle;\n",
              "    }\n",
              "\n",
              "    .dataframe tbody tr th {\n",
              "        vertical-align: top;\n",
              "    }\n",
              "\n",
              "    .dataframe thead th {\n",
              "        text-align: right;\n",
              "    }\n",
              "</style>\n",
              "<table border=\"1\" class=\"dataframe\">\n",
              "  <thead>\n",
              "    <tr style=\"text-align: right;\">\n",
              "      <th></th>\n",
              "      <th>Celsius</th>\n",
              "      <th>Fahrenheit</th>\n",
              "    </tr>\n",
              "  </thead>\n",
              "  <tbody>\n",
              "    <tr>\n",
              "      <th>count</th>\n",
              "      <td>30.000000</td>\n",
              "      <td>30.000000</td>\n",
              "    </tr>\n",
              "    <tr>\n",
              "      <th>mean</th>\n",
              "      <td>2.000000</td>\n",
              "      <td>35.600000</td>\n",
              "    </tr>\n",
              "    <tr>\n",
              "      <th>std</th>\n",
              "      <td>22.780815</td>\n",
              "      <td>41.005466</td>\n",
              "    </tr>\n",
              "    <tr>\n",
              "      <th>min</th>\n",
              "      <td>-50.000000</td>\n",
              "      <td>-58.000000</td>\n",
              "    </tr>\n",
              "    <tr>\n",
              "      <th>25%</th>\n",
              "      <td>-6.750000</td>\n",
              "      <td>19.850000</td>\n",
              "    </tr>\n",
              "    <tr>\n",
              "      <th>50%</th>\n",
              "      <td>0.500000</td>\n",
              "      <td>32.900000</td>\n",
              "    </tr>\n",
              "    <tr>\n",
              "      <th>75%</th>\n",
              "      <td>7.750000</td>\n",
              "      <td>45.950000</td>\n",
              "    </tr>\n",
              "    <tr>\n",
              "      <th>max</th>\n",
              "      <td>60.000000</td>\n",
              "      <td>140.000000</td>\n",
              "    </tr>\n",
              "  </tbody>\n",
              "</table>\n",
              "</div>"
            ],
            "text/plain": [
              "         Celsius  Fahrenheit\n",
              "count  30.000000   30.000000\n",
              "mean    2.000000   35.600000\n",
              "std    22.780815   41.005466\n",
              "min   -50.000000  -58.000000\n",
              "25%    -6.750000   19.850000\n",
              "50%     0.500000   32.900000\n",
              "75%     7.750000   45.950000\n",
              "max    60.000000  140.000000"
            ]
          },
          "metadata": {
            "tags": []
          },
          "execution_count": 8
        }
      ]
    },
    {
      "cell_type": "code",
      "metadata": {
        "id": "yc6A3O5vD27_",
        "colab_type": "code",
        "colab": {
          "base_uri": "https://localhost:8080/",
          "height": 136
        },
        "outputId": "be67bcd9-159d-4378-c46c-102482c02c35"
      },
      "source": [
        "df.info()"
      ],
      "execution_count": 9,
      "outputs": [
        {
          "output_type": "stream",
          "text": [
            "<class 'pandas.core.frame.DataFrame'>\n",
            "RangeIndex: 30 entries, 0 to 29\n",
            "Data columns (total 2 columns):\n",
            "Celsius       30 non-null int64\n",
            "Fahrenheit    30 non-null float64\n",
            "dtypes: float64(1), int64(1)\n",
            "memory usage: 608.0 bytes\n"
          ],
          "name": "stdout"
        }
      ]
    },
    {
      "cell_type": "markdown",
      "metadata": {
        "id": "pfOJoGZ0D-eJ",
        "colab_type": "text"
      },
      "source": [
        "## Step 2: Visualize dataset"
      ]
    },
    {
      "cell_type": "code",
      "metadata": {
        "id": "T89hIdRDD6Zw",
        "colab_type": "code",
        "colab": {
          "base_uri": "https://localhost:8080/",
          "height": 296
        },
        "outputId": "5f66637a-e52d-4acf-f402-8f2e22ef34dd"
      },
      "source": [
        "sns.scatterplot(df['Celsius'], df['Fahrenheit'])"
      ],
      "execution_count": 10,
      "outputs": [
        {
          "output_type": "execute_result",
          "data": {
            "text/plain": [
              "<matplotlib.axes._subplots.AxesSubplot at 0x7f84cfab6b00>"
            ]
          },
          "metadata": {
            "tags": []
          },
          "execution_count": 10
        },
        {
          "output_type": "display_data",
          "data": {
            "image/png": "[encoded data removed]",
            "text/plain": [
              "<Figure size 432x288 with 1 Axes>"
            ]
          },
          "metadata": {
            "tags": []
          }
        }
      ]
    },
    {
      "cell_type": "markdown",
      "metadata": {
        "id": "_HxRU0-jFiGO",
        "colab_type": "text"
      },
      "source": [
        "## Step 3: Create testing and training dataset"
      ]
    },
    {
      "cell_type": "code",
      "metadata": {
        "id": "C8BVGuJRFfQa",
        "colab_type": "code",
        "colab": {}
      },
      "source": [
        "X_train = df['Celsius']\n",
        "y_train = df['Fahrenheit']"
      ],
      "execution_count": 0,
      "outputs": []
    },
    {
      "cell_type": "markdown",
      "metadata": {
        "id": "GAS5bv1KGbxG",
        "colab_type": "text"
      },
      "source": [
        "## Step 4: Build and train the model"
      ]
    },
    {
      "cell_type": "code",
      "metadata": {
        "id": "IP9RgExRGadt",
        "colab_type": "code",
        "colab": {
          "base_uri": "https://localhost:8080/",
          "height": 34
        },
        "outputId": "8c342a1b-91fb-44e6-c08d-74161637fe8c"
      },
      "source": [
        "X_train.shape"
      ],
      "execution_count": 12,
      "outputs": [
        {
          "output_type": "execute_result",
          "data": {
            "text/plain": [
              "(30,)"
            ]
          },
          "metadata": {
            "tags": []
          },
          "execution_count": 12
        }
      ]
    },
    {
      "cell_type": "code",
      "metadata": {
        "id": "6_BDD0PNHjk4",
        "colab_type": "code",
        "colab": {
          "base_uri": "https://localhost:8080/",
          "height": 34
        },
        "outputId": "959332c4-d073-4fc3-97e8-2ef738ae2acd"
      },
      "source": [
        "y_train.shape"
      ],
      "execution_count": 13,
      "outputs": [
        {
          "output_type": "execute_result",
          "data": {
            "text/plain": [
              "(30,)"
            ]
          },
          "metadata": {
            "tags": []
          },
          "execution_count": 13
        }
      ]
    },
    {
      "cell_type": "code",
      "metadata": {
        "id": "RcPTEYCcHlts",
        "colab_type": "code",
        "colab": {}
      },
      "source": [
        "model = tf.keras.Sequential()\n",
        "model.add(tf.keras.layers.Dense(units=1, input_shape=[1]))"
      ],
      "execution_count": 0,
      "outputs": []
    },
    {
      "cell_type": "code",
      "metadata": {
        "id": "Vdof7kfmIEGY",
        "colab_type": "code",
        "colab": {
          "base_uri": "https://localhost:8080/",
          "height": 187
        },
        "outputId": "8d1eb312-ba12-4115-9cfe-23d97bbfe21d"
      },
      "source": [
        "model.summary()"
      ],
      "execution_count": 23,
      "outputs": [
        {
          "output_type": "stream",
          "text": [
            "Model: \"sequential_2\"\n",
            "_________________________________________________________________\n",
            "Layer (type)                 Output Shape              Param #   \n",
            "=================================================================\n",
            "dense_2 (Dense)              (None, 1)                 2         \n",
            "=================================================================\n",
            "Total params: 2\n",
            "Trainable params: 2\n",
            "Non-trainable params: 0\n",
            "_________________________________________________________________\n"
          ],
          "name": "stdout"
        }
      ]
    },
    {
      "cell_type": "code",
      "metadata": {
        "id": "vE2lDk4QIH31",
        "colab_type": "code",
        "colab": {}
      },
      "source": [
        "model.compile(optimizer=tf.keras.optimizers.Adam(0.5), loss = 'mean_squared_error')"
      ],
      "execution_count": 0,
      "outputs": []
    },
    {
      "cell_type": "code",
      "metadata": {
        "id": "HeMjPXioJOK6",
        "colab_type": "code",
        "colab": {
          "base_uri": "https://localhost:8080/",
          "height": 1000
        },
        "outputId": "d089e900-fba7-41f5-e9e0-540cd3639c28"
      },
      "source": [
        "epochs_hist = model.fit(X_train, y_train, epochs = 100)"
      ],
      "execution_count": 27,
      "outputs": [
        {
          "output_type": "stream",
          "text": [
            "Epoch 1/100\n",
            "30/30 [==============================] - 0s 2ms/sample - loss: 6.9202\n",
            "Epoch 2/100\n",
            "30/30 [==============================] - 0s 113us/sample - loss: 129.9267\n",
            "Epoch 3/100\n",
            "30/30 [==============================] - 0s 145us/sample - loss: 10.4339\n",
            "Epoch 4/100\n",
            "30/30 [==============================] - 0s 158us/sample - loss: 29.0744\n",
            "Epoch 5/100\n",
            "30/30 [==============================] - 0s 121us/sample - loss: 73.7742\n",
            "Epoch 6/100\n",
            "30/30 [==============================] - 0s 160us/sample - loss: 55.4191\n",
            "Epoch 7/100\n",
            "30/30 [==============================] - 0s 114us/sample - loss: 15.9877\n",
            "Epoch 8/100\n",
            "30/30 [==============================] - 0s 118us/sample - loss: 0.0868\n",
            "Epoch 9/100\n",
            "30/30 [==============================] - 0s 171us/sample - loss: 15.2366\n",
            "Epoch 10/100\n",
            "30/30 [==============================] - 0s 133us/sample - loss: 34.6041\n",
            "Epoch 11/100\n",
            "30/30 [==============================] - 0s 146us/sample - loss: 34.4982\n",
            "Epoch 12/100\n",
            "30/30 [==============================] - 0s 110us/sample - loss: 18.3644\n",
            "Epoch 13/100\n",
            "30/30 [==============================] - 0s 95us/sample - loss: 3.5741\n",
            "Epoch 14/100\n",
            "30/30 [==============================] - 0s 128us/sample - loss: 2.1784\n",
            "Epoch 15/100\n",
            "30/30 [==============================] - 0s 106us/sample - loss: 11.6164\n",
            "Epoch 16/100\n",
            "30/30 [==============================] - 0s 124us/sample - loss: 19.5013\n",
            "Epoch 17/100\n",
            "30/30 [==============================] - 0s 102us/sample - loss: 17.5304\n",
            "Epoch 18/100\n",
            "30/30 [==============================] - 0s 112us/sample - loss: 8.4955\n",
            "Epoch 19/100\n",
            "30/30 [==============================] - 0s 143us/sample - loss: 1.0991\n",
            "Epoch 20/100\n",
            "30/30 [==============================] - 0s 90us/sample - loss: 1.0369\n",
            "Epoch 21/100\n",
            "30/30 [==============================] - 0s 95us/sample - loss: 6.3590\n",
            "Epoch 22/100\n",
            "30/30 [==============================] - 0s 141us/sample - loss: 10.4235\n",
            "Epoch 23/100\n",
            "30/30 [==============================] - 0s 180us/sample - loss: 9.0539\n",
            "Epoch 24/100\n",
            "30/30 [==============================] - 0s 123us/sample - loss: 4.0741\n",
            "Epoch 25/100\n",
            "30/30 [==============================] - 0s 127us/sample - loss: 0.4417\n",
            "Epoch 26/100\n",
            "30/30 [==============================] - 0s 116us/sample - loss: 1.0465\n",
            "Epoch 27/100\n",
            "30/30 [==============================] - 0s 101us/sample - loss: 4.2477\n",
            "Epoch 28/100\n",
            "30/30 [==============================] - 0s 129us/sample - loss: 6.1288\n",
            "Epoch 29/100\n",
            "30/30 [==============================] - 0s 101us/sample - loss: 4.7498\n",
            "Epoch 30/100\n",
            "30/30 [==============================] - 0s 133us/sample - loss: 1.7510\n",
            "Epoch 31/100\n",
            "30/30 [==============================] - 0s 95us/sample - loss: 0.1249\n",
            "Epoch 32/100\n",
            "30/30 [==============================] - 0s 113us/sample - loss: 1.0162\n",
            "Epoch 33/100\n",
            "30/30 [==============================] - 0s 157us/sample - loss: 2.8358\n",
            "Epoch 34/100\n",
            "30/30 [==============================] - 0s 110us/sample - loss: 3.3132\n",
            "Epoch 35/100\n",
            "30/30 [==============================] - 0s 100us/sample - loss: 1.9812\n",
            "Epoch 36/100\n",
            "30/30 [==============================] - 0s 106us/sample - loss: 0.3777\n",
            "Epoch 37/100\n",
            "30/30 [==============================] - 0s 153us/sample - loss: 0.1031\n",
            "Epoch 38/100\n",
            "30/30 [==============================] - 0s 166us/sample - loss: 1.1003\n",
            "Epoch 39/100\n",
            "30/30 [==============================] - 0s 166us/sample - loss: 1.9587\n",
            "Epoch 40/100\n",
            "30/30 [==============================] - 0s 174us/sample - loss: 1.6594\n",
            "Epoch 41/100\n",
            "30/30 [==============================] - 0s 110us/sample - loss: 0.6348\n",
            "Epoch 42/100\n",
            "30/30 [==============================] - 0s 198us/sample - loss: 0.0564\n",
            "Epoch 43/100\n",
            "30/30 [==============================] - 0s 125us/sample - loss: 0.4075\n",
            "Epoch 44/100\n",
            "30/30 [==============================] - 0s 134us/sample - loss: 1.0420\n",
            "Epoch 45/100\n",
            "30/30 [==============================] - 0s 116us/sample - loss: 1.0988\n",
            "Epoch 46/100\n",
            "30/30 [==============================] - 0s 141us/sample - loss: 0.5328\n",
            "Epoch 47/100\n",
            "30/30 [==============================] - 0s 156us/sample - loss: 0.0399\n",
            "Epoch 48/100\n",
            "30/30 [==============================] - 0s 225us/sample - loss: 0.1252\n",
            "Epoch 49/100\n",
            "30/30 [==============================] - 0s 140us/sample - loss: 0.5347\n",
            "Epoch 50/100\n",
            "30/30 [==============================] - 0s 168us/sample - loss: 0.6765\n",
            "Epoch 51/100\n",
            "30/30 [==============================] - 0s 118us/sample - loss: 0.3866\n",
            "Epoch 52/100\n",
            "30/30 [==============================] - 0s 100us/sample - loss: 0.0582\n",
            "Epoch 53/100\n",
            "30/30 [==============================] - 0s 184us/sample - loss: 0.0695\n",
            "Epoch 54/100\n",
            "30/30 [==============================] - 0s 125us/sample - loss: 0.3172\n",
            "Epoch 55/100\n",
            "30/30 [==============================] - 0s 141us/sample - loss: 0.4214\n",
            "Epoch 56/100\n",
            "30/30 [==============================] - 0s 98us/sample - loss: 0.2466\n",
            "Epoch 57/100\n",
            "30/30 [==============================] - 0s 102us/sample - loss: 0.0348\n",
            "Epoch 58/100\n",
            "30/30 [==============================] - 0s 155us/sample - loss: 0.0365\n",
            "Epoch 59/100\n",
            "30/30 [==============================] - 0s 142us/sample - loss: 0.1882\n",
            "Epoch 60/100\n",
            "30/30 [==============================] - 0s 125us/sample - loss: 0.2460\n",
            "Epoch 61/100\n",
            "30/30 [==============================] - 0s 140us/sample - loss: 0.1328\n",
            "Epoch 62/100\n",
            "30/30 [==============================] - 0s 117us/sample - loss: 0.0124\n",
            "Epoch 63/100\n",
            "30/30 [==============================] - 0s 134us/sample - loss: 0.0329\n",
            "Epoch 64/100\n",
            "30/30 [==============================] - 0s 124us/sample - loss: 0.1308\n",
            "Epoch 65/100\n",
            "30/30 [==============================] - 0s 131us/sample - loss: 0.1504\n",
            "Epoch 66/100\n",
            "30/30 [==============================] - 0s 153us/sample - loss: 0.0689\n",
            "Epoch 67/100\n",
            "30/30 [==============================] - 0s 114us/sample - loss: 0.0052\n",
            "Epoch 68/100\n",
            "30/30 [==============================] - 0s 153us/sample - loss: 0.0338\n",
            "Epoch 69/100\n",
            "30/30 [==============================] - 0s 206us/sample - loss: 0.0895\n",
            "Epoch 70/100\n",
            "30/30 [==============================] - 0s 172us/sample - loss: 0.0813\n",
            "Epoch 71/100\n",
            "30/30 [==============================] - 0s 195us/sample - loss: 0.0243\n",
            "Epoch 72/100\n",
            "30/30 [==============================] - 0s 183us/sample - loss: 6.9788e-04\n",
            "Epoch 73/100\n",
            "30/30 [==============================] - 0s 189us/sample - loss: 0.0325\n",
            "Epoch 74/100\n",
            "30/30 [==============================] - 0s 169us/sample - loss: 0.0598\n",
            "Epoch 75/100\n",
            "30/30 [==============================] - 0s 224us/sample - loss: 0.0402\n",
            "Epoch 76/100\n",
            "30/30 [==============================] - 0s 163us/sample - loss: 0.0067\n",
            "Epoch 77/100\n",
            "30/30 [==============================] - 0s 202us/sample - loss: 0.0069\n",
            "Epoch 78/100\n",
            "30/30 [==============================] - 0s 259us/sample - loss: 0.0311\n",
            "Epoch 79/100\n",
            "30/30 [==============================] - 0s 221us/sample - loss: 0.0360\n",
            "Epoch 80/100\n",
            "30/30 [==============================] - 0s 191us/sample - loss: 0.0146\n",
            "Epoch 81/100\n",
            "30/30 [==============================] - 0s 154us/sample - loss: 2.1106e-04\n",
            "Epoch 82/100\n",
            "30/30 [==============================] - 0s 141us/sample - loss: 0.0104\n",
            "Epoch 83/100\n",
            "30/30 [==============================] - 0s 119us/sample - loss: 0.0231\n",
            "Epoch 84/100\n",
            "30/30 [==============================] - 0s 139us/sample - loss: 0.0167\n",
            "Epoch 85/100\n",
            "30/30 [==============================] - 0s 158us/sample - loss: 0.0027\n",
            "Epoch 86/100\n",
            "30/30 [==============================] - 0s 181us/sample - loss: 0.0025\n",
            "Epoch 87/100\n",
            "30/30 [==============================] - 0s 187us/sample - loss: 0.0126\n",
            "Epoch 88/100\n",
            "30/30 [==============================] - 0s 107us/sample - loss: 0.0144\n",
            "Epoch 89/100\n",
            "30/30 [==============================] - 0s 172us/sample - loss: 0.0054\n",
            "Epoch 90/100\n",
            "30/30 [==============================] - 0s 109us/sample - loss: 3.0131e-04\n",
            "Epoch 91/100\n",
            "30/30 [==============================] - 0s 153us/sample - loss: 0.0053\n",
            "Epoch 92/100\n",
            "30/30 [==============================] - 0s 120us/sample - loss: 0.0096\n",
            "Epoch 93/100\n",
            "30/30 [==============================] - 0s 130us/sample - loss: 0.0056\n",
            "Epoch 94/100\n",
            "30/30 [==============================] - 0s 113us/sample - loss: 3.5020e-04\n",
            "Epoch 95/100\n",
            "30/30 [==============================] - 0s 111us/sample - loss: 0.0018\n",
            "Epoch 96/100\n",
            "30/30 [==============================] - 0s 96us/sample - loss: 0.0058\n",
            "Epoch 97/100\n",
            "30/30 [==============================] - 0s 112us/sample - loss: 0.0050\n",
            "Epoch 98/100\n",
            "30/30 [==============================] - 0s 139us/sample - loss: 0.0011\n",
            "Epoch 99/100\n",
            "30/30 [==============================] - 0s 120us/sample - loss: 5.6985e-04\n",
            "Epoch 100/100\n",
            "30/30 [==============================] - 0s 250us/sample - loss: 0.0033\n"
          ],
          "name": "stdout"
        }
      ]
    },
    {
      "cell_type": "markdown",
      "metadata": {
        "id": "IPdKR-pzJqjB",
        "colab_type": "text"
      },
      "source": [
        "## Step 5: Evaluate the model"
      ]
    },
    {
      "cell_type": "code",
      "metadata": {
        "id": "Za_6gwzvJWGq",
        "colab_type": "code",
        "colab": {
          "base_uri": "https://localhost:8080/",
          "height": 34
        },
        "outputId": "76f7e423-4d72-4634-e41e-da06d76cc50b"
      },
      "source": [
        "epochs_hist.history.keys()"
      ],
      "execution_count": 29,
      "outputs": [
        {
          "output_type": "execute_result",
          "data": {
            "text/plain": [
              "dict_keys(['loss'])"
            ]
          },
          "metadata": {
            "tags": []
          },
          "execution_count": 29
        }
      ]
    },
    {
      "cell_type": "code",
      "metadata": {
        "id": "W8IyiMeDLjc3",
        "colab_type": "code",
        "colab": {
          "base_uri": "https://localhost:8080/",
          "height": 367
        },
        "outputId": "e2ed5df9-bf7c-48e7-e66b-89ce3da998ec"
      },
      "source": [
        "plt.figure(figsize=(10,5))\n",
        "plt.plot(epochs_hist.history['loss'])\n",
        "plt.title('Model Loss Progress During Training')\n",
        "plt.xlabel('Epochs')\n",
        "plt.ylabel('Training Loss')\n",
        "plt.legend(['Training Loss'])"
      ],
      "execution_count": 34,
      "outputs": [
        {
          "output_type": "execute_result",
          "data": {
            "text/plain": [
              "<matplotlib.legend.Legend at 0x7f84a66814e0>"
            ]
          },
          "metadata": {
            "tags": []
          },
          "execution_count": 34
        },
        {
          "output_type": "display_data",
          "data": {
            "image/png": "[encoded data removed]",
            "text/plain": [
              "<Figure size 720x360 with 1 Axes>"
            ]
          },
          "metadata": {
            "tags": []
          }
        }
      ]
    },
    {
      "cell_type": "code",
      "metadata": {
        "id": "AGHsco8QLtHm",
        "colab_type": "code",
        "colab": {
          "base_uri": "https://localhost:8080/",
          "height": 34
        },
        "outputId": "d5cec894-c410-4ad1-bac8-bf3d47503239"
      },
      "source": [
        "model.get_weights()"
      ],
      "execution_count": 35,
      "outputs": [
        {
          "output_type": "execute_result",
          "data": {
            "text/plain": [
              "[array([[1.797354]], dtype=float32), array([31.990849], dtype=float32)]"
            ]
          },
          "metadata": {
            "tags": []
          },
          "execution_count": 35
        }
      ]
    },
    {
      "cell_type": "code",
      "metadata": {
        "id": "lKSiw9CSNWeS",
        "colab_type": "code",
        "colab": {
          "base_uri": "https://localhost:8080/",
          "height": 34
        },
        "outputId": "9557dcd2-4fb1-4c62-e185-f7f56a5fe386"
      },
      "source": [
        "Temp_C = 0\n",
        "Temp_F = model.predict([Temp_C])\n",
        "print('Temperature in DegF using Trained ANN =', Temp_F)"
      ],
      "execution_count": 37,
      "outputs": [
        {
          "output_type": "stream",
          "text": [
            "Temperature in DegF using Trained ANN = [[31.990849]]\n"
          ],
          "name": "stdout"
        }
      ]
    },
    {
      "cell_type": "code",
      "metadata": {
        "id": "bFUAk79zOMtw",
        "colab_type": "code",
        "colab": {
          "base_uri": "https://localhost:8080/",
          "height": 51
        },
        "outputId": "f3b1c9af-275c-4043-ab7b-9048beb78f0f"
      },
      "source": [
        "# Let's confirm with the equation\n",
        "Temp_C = 0\n",
        "Temp_F_m = model.predict([Temp_C])\n",
        "Temp_F_e = Temp_C*9/5 + 32\n",
        "print('Temperature in DegF using Trained ANN =', Temp_F_m)\n",
        "print('Temperature in DegF using the equation =', Temp_F_e)"
      ],
      "execution_count": 39,
      "outputs": [
        {
          "output_type": "stream",
          "text": [
            "Temperature in DegF using Trained ANN = [[31.990849]]\n",
            "Temperature in DegF using the equation = 32.0\n"
          ],
          "name": "stdout"
        }
      ]
    },
    {
      "cell_type": "code",
      "metadata": {
        "id": "kDe-3knRO5VZ",
        "colab_type": "code",
        "colab": {
          "base_uri": "https://localhost:8080/",
          "height": 51
        },
        "outputId": "5c745136-b858-40b4-8929-18f8dcd784be"
      },
      "source": [
        "Temp_C = 100\n",
        "Temp_F_m = model.predict([Temp_C])\n",
        "Temp_F_e = Temp_C*9/5 + 32\n",
        "print('Temperature in DegF using Trained ANN =', Temp_F_m)\n",
        "print('Temperature in DegF using the equation =', Temp_F_e)"
      ],
      "execution_count": 40,
      "outputs": [
        {
          "output_type": "stream",
          "text": [
            "Temperature in DegF using Trained ANN = [[211.72624]]\n",
            "Temperature in DegF using the equation = 212.0\n"
          ],
          "name": "stdout"
        }
      ]
    }
  ]
}