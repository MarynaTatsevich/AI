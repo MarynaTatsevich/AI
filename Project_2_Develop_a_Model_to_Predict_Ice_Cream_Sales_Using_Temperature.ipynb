{
  "nbformat": 4,
  "nbformat_minor": 0,
  "metadata": {
    "colab": {
      "name": "Project 2 - Develop a Model to Predict Ice Cream Sales Using Temperature.ipynb",
      "provenance": [],
      "collapsed_sections": [],
      "include_colab_link": true
    },
    "kernelspec": {
      "name": "python3",
      "display_name": "Python 3"
    },
    "accelerator": "GPU"
  },
  "cells": [
    {
      "cell_type": "markdown",
      "metadata": {
        "id": "view-in-github",
        "colab_type": "text"
      },
      "source": [
        "<a href=\"https://colab.research.google.com/github/MarynaTatsevich/AI/blob/master/Project_2_Develop_a_Model_to_Predict_Ice_Cream_Sales_Using_Temperature.ipynb\" target=\"_parent\"><img src=\"https://colab.research.google.com/assets/colab-badge.svg\" alt=\"Open In Colab\"/></a>"
      ]
    },
    {
      "cell_type": "markdown",
      "metadata": {
        "id": "M27qF7CTrBqc",
        "colab_type": "text"
      },
      "source": [
        "# Problem statement"
      ]
    },
    {
      "cell_type": "markdown",
      "metadata": {
        "id": "iCj2rwwHBB1I",
        "colab_type": "text"
      },
      "source": [
        "\n",
        "- You own an ice cream business and you would like to create a model that could predict the daily revenue in dollars based on the outside air temperature (degC). You decided to build a simple Artificial Neural Network to solve this problem.  \n",
        "\n",
        "- Data set:\n",
        "  - Input (X): Outside Air Temperature\n",
        "  - Output (Y): Overall daily revenue generated in dollars \n",
        "\n",
        "- This example is a regression example."
      ]
    },
    {
      "cell_type": "markdown",
      "metadata": {
        "id": "zKmFmyaGunc7",
        "colab_type": "text"
      },
      "source": [
        "# STEP 0: Import libraries"
      ]
    },
    {
      "cell_type": "code",
      "metadata": {
        "id": "uAgOWDkNbgON",
        "colab_type": "code",
        "outputId": "c6320a6c-4171-45ac-d949-83131e519d26",
        "colab": {
          "base_uri": "https://localhost:8080/",
          "height": 496
        }
      },
      "source": [
        "!pip install tensorflow-gpu==2.0.0.alpha0"
      ],
      "execution_count": 0,
      "outputs": [
        {
          "output_type": "stream",
          "text": [
            "Collecting tensorflow-gpu==2.0.0.alpha0\n",
            "\u001b[?25l  Downloading https://files.pythonhosted.org/packages/1a/66/32cffad095253219d53f6b6c2a436637bbe45ac4e7be0244557210dc3918/tensorflow_gpu-2.0.0a0-cp36-cp36m-manylinux1_x86_64.whl (332.1MB)\n",
            "\u001b[K     |████████████████████████████████| 332.1MB 48kB/s \n",
            "\u001b[?25hRequirement already satisfied: numpy<2.0,>=1.14.5 in /usr/local/lib/python3.6/dist-packages (from tensorflow-gpu==2.0.0.alpha0) (1.17.5)\n",
            "Requirement already satisfied: absl-py>=0.7.0 in /usr/local/lib/python3.6/dist-packages (from tensorflow-gpu==2.0.0.alpha0) (0.9.0)\n",
            "Requirement already satisfied: grpcio>=1.8.6 in /usr/local/lib/python3.6/dist-packages (from tensorflow-gpu==2.0.0.alpha0) (1.15.0)\n",
            "Requirement already satisfied: six>=1.10.0 in /usr/local/lib/python3.6/dist-packages (from tensorflow-gpu==2.0.0.alpha0) (1.12.0)\n",
            "Requirement already satisfied: astor>=0.6.0 in /usr/local/lib/python3.6/dist-packages (from tensorflow-gpu==2.0.0.alpha0) (0.8.1)\n",
            "Requirement already satisfied: gast>=0.2.0 in /usr/local/lib/python3.6/dist-packages (from tensorflow-gpu==2.0.0.alpha0) (0.2.2)\n",
            "Requirement already satisfied: keras-applications>=1.0.6 in /usr/local/lib/python3.6/dist-packages (from tensorflow-gpu==2.0.0.alpha0) (1.0.8)\n",
            "Requirement already satisfied: google-pasta>=0.1.2 in /usr/local/lib/python3.6/dist-packages (from tensorflow-gpu==2.0.0.alpha0) (0.1.8)\n",
            "Requirement already satisfied: wheel>=0.26 in /usr/local/lib/python3.6/dist-packages (from tensorflow-gpu==2.0.0.alpha0) (0.33.6)\n",
            "Requirement already satisfied: keras-preprocessing>=1.0.5 in /usr/local/lib/python3.6/dist-packages (from tensorflow-gpu==2.0.0.alpha0) (1.1.0)\n",
            "Collecting tf-estimator-nightly<1.14.0.dev2019030116,>=1.14.0.dev2019030115\n",
            "\u001b[?25l  Downloading https://files.pythonhosted.org/packages/13/82/f16063b4eed210dc2ab057930ac1da4fbe1e91b7b051a6c8370b401e6ae7/tf_estimator_nightly-1.14.0.dev2019030115-py2.py3-none-any.whl (411kB)\n",
            "\u001b[K     |████████████████████████████████| 419kB 47.2MB/s \n",
            "\u001b[?25hRequirement already satisfied: protobuf>=3.6.1 in /usr/local/lib/python3.6/dist-packages (from tensorflow-gpu==2.0.0.alpha0) (3.10.0)\n",
            "Collecting tb-nightly<1.14.0a20190302,>=1.14.0a20190301\n",
            "\u001b[?25l  Downloading https://files.pythonhosted.org/packages/a9/51/aa1d756644bf4624c03844115e4ac4058eff77acd786b26315f051a4b195/tb_nightly-1.14.0a20190301-py3-none-any.whl (3.0MB)\n",
            "\u001b[K     |████████████████████████████████| 3.0MB 53.5MB/s \n",
            "\u001b[?25hRequirement already satisfied: termcolor>=1.1.0 in /usr/local/lib/python3.6/dist-packages (from tensorflow-gpu==2.0.0.alpha0) (1.1.0)\n",
            "Requirement already satisfied: h5py in /usr/local/lib/python3.6/dist-packages (from keras-applications>=1.0.6->tensorflow-gpu==2.0.0.alpha0) (2.8.0)\n",
            "Requirement already satisfied: setuptools in /usr/local/lib/python3.6/dist-packages (from protobuf>=3.6.1->tensorflow-gpu==2.0.0.alpha0) (42.0.2)\n",
            "Requirement already satisfied: markdown>=2.6.8 in /usr/local/lib/python3.6/dist-packages (from tb-nightly<1.14.0a20190302,>=1.14.0a20190301->tensorflow-gpu==2.0.0.alpha0) (3.1.1)\n",
            "Requirement already satisfied: werkzeug>=0.11.15 in /usr/local/lib/python3.6/dist-packages (from tb-nightly<1.14.0a20190302,>=1.14.0a20190301->tensorflow-gpu==2.0.0.alpha0) (0.16.0)\n",
            "Installing collected packages: tf-estimator-nightly, tb-nightly, tensorflow-gpu\n",
            "Successfully installed tb-nightly-1.14.0a20190301 tensorflow-gpu-2.0.0a0 tf-estimator-nightly-1.14.0.dev2019030115\n"
          ],
          "name": "stdout"
        }
      ]
    },
    {
      "cell_type": "code",
      "metadata": {
        "id": "pEf3ibSFbvVz",
        "colab_type": "code",
        "outputId": "4452fe8c-1898-47a8-e615-f5853e507c70",
        "colab": {
          "base_uri": "https://localhost:8080/",
          "height": 445
        }
      },
      "source": [
        "import tensorflow as tf\n",
        "import pandas as pd\n",
        "import numpy as np\n",
        "import seaborn as sns\n",
        "import matplotlib.pyplot as plt"
      ],
      "execution_count": 0,
      "outputs": [
        {
          "output_type": "stream",
          "text": [
            "/usr/local/lib/python3.6/dist-packages/tensorflow/python/framework/dtypes.py:523: FutureWarning: Passing (type, 1) or '1type' as a synonym of type is deprecated; in a future version of numpy, it will be understood as (type, (1,)) / '(1,)type'.\n",
            "  _np_qint8 = np.dtype([(\"qint8\", np.int8, 1)])\n",
            "/usr/local/lib/python3.6/dist-packages/tensorflow/python/framework/dtypes.py:524: FutureWarning: Passing (type, 1) or '1type' as a synonym of type is deprecated; in a future version of numpy, it will be understood as (type, (1,)) / '(1,)type'.\n",
            "  _np_quint8 = np.dtype([(\"quint8\", np.uint8, 1)])\n",
            "/usr/local/lib/python3.6/dist-packages/tensorflow/python/framework/dtypes.py:525: FutureWarning: Passing (type, 1) or '1type' as a synonym of type is deprecated; in a future version of numpy, it will be understood as (type, (1,)) / '(1,)type'.\n",
            "  _np_qint16 = np.dtype([(\"qint16\", np.int16, 1)])\n",
            "/usr/local/lib/python3.6/dist-packages/tensorflow/python/framework/dtypes.py:526: FutureWarning: Passing (type, 1) or '1type' as a synonym of type is deprecated; in a future version of numpy, it will be understood as (type, (1,)) / '(1,)type'.\n",
            "  _np_quint16 = np.dtype([(\"quint16\", np.uint16, 1)])\n",
            "/usr/local/lib/python3.6/dist-packages/tensorflow/python/framework/dtypes.py:527: FutureWarning: Passing (type, 1) or '1type' as a synonym of type is deprecated; in a future version of numpy, it will be understood as (type, (1,)) / '(1,)type'.\n",
            "  _np_qint32 = np.dtype([(\"qint32\", np.int32, 1)])\n",
            "/usr/local/lib/python3.6/dist-packages/tensorflow/python/framework/dtypes.py:532: FutureWarning: Passing (type, 1) or '1type' as a synonym of type is deprecated; in a future version of numpy, it will be understood as (type, (1,)) / '(1,)type'.\n",
            "  np_resource = np.dtype([(\"resource\", np.ubyte, 1)])\n",
            "/usr/local/lib/python3.6/dist-packages/tensorboard/compat/tensorflow_stub/dtypes.py:541: FutureWarning: Passing (type, 1) or '1type' as a synonym of type is deprecated; in a future version of numpy, it will be understood as (type, (1,)) / '(1,)type'.\n",
            "  _np_qint8 = np.dtype([(\"qint8\", np.int8, 1)])\n",
            "/usr/local/lib/python3.6/dist-packages/tensorboard/compat/tensorflow_stub/dtypes.py:542: FutureWarning: Passing (type, 1) or '1type' as a synonym of type is deprecated; in a future version of numpy, it will be understood as (type, (1,)) / '(1,)type'.\n",
            "  _np_quint8 = np.dtype([(\"quint8\", np.uint8, 1)])\n",
            "/usr/local/lib/python3.6/dist-packages/tensorboard/compat/tensorflow_stub/dtypes.py:543: FutureWarning: Passing (type, 1) or '1type' as a synonym of type is deprecated; in a future version of numpy, it will be understood as (type, (1,)) / '(1,)type'.\n",
            "  _np_qint16 = np.dtype([(\"qint16\", np.int16, 1)])\n",
            "/usr/local/lib/python3.6/dist-packages/tensorboard/compat/tensorflow_stub/dtypes.py:544: FutureWarning: Passing (type, 1) or '1type' as a synonym of type is deprecated; in a future version of numpy, it will be understood as (type, (1,)) / '(1,)type'.\n",
            "  _np_quint16 = np.dtype([(\"quint16\", np.uint16, 1)])\n",
            "/usr/local/lib/python3.6/dist-packages/tensorboard/compat/tensorflow_stub/dtypes.py:545: FutureWarning: Passing (type, 1) or '1type' as a synonym of type is deprecated; in a future version of numpy, it will be understood as (type, (1,)) / '(1,)type'.\n",
            "  _np_qint32 = np.dtype([(\"qint32\", np.int32, 1)])\n",
            "/usr/local/lib/python3.6/dist-packages/tensorboard/compat/tensorflow_stub/dtypes.py:550: FutureWarning: Passing (type, 1) or '1type' as a synonym of type is deprecated; in a future version of numpy, it will be understood as (type, (1,)) / '(1,)type'.\n",
            "  np_resource = np.dtype([(\"resource\", np.ubyte, 1)])\n"
          ],
          "name": "stderr"
        }
      ]
    },
    {
      "cell_type": "markdown",
      "metadata": {
        "id": "uAE6Icc0uylP",
        "colab_type": "text"
      },
      "source": [
        "# STEP 1: Import dataset"
      ]
    },
    {
      "cell_type": "code",
      "metadata": {
        "id": "q4_wPDKCu5Uc",
        "colab_type": "code",
        "outputId": "7bccf96e-9e5b-4c25-88a8-1342d5abde31",
        "colab": {
          "base_uri": "https://localhost:8080/",
          "height": 122
        }
      },
      "source": [
        "from google.colab import drive\n",
        "drive.mount('/content/drive')"
      ],
      "execution_count": 0,
      "outputs": [
        {
          "output_type": "stream",
          "text": [
            "Go to this URL in a browser: https://accounts.google.com/o/oauth2/auth?client_id=947318989803-6bn6qk8qdgf4n4g3pfee6491hc0brc4i.apps.googleusercontent.com&redirect_uri=urn%3aietf%3awg%3aoauth%3a2.0%3aoob&response_type=code&scope=email%20https%3a%2f%2fwww.googleapis.com%2fauth%2fdocs.test%20https%3a%2f%2fwww.googleapis.com%2fauth%2fdrive%20https%3a%2f%2fwww.googleapis.com%2fauth%2fdrive.photos.readonly%20https%3a%2f%2fwww.googleapis.com%2fauth%2fpeopleapi.readonly\n",
            "\n",
            "Enter your authorization code:\n",
            "··········\n",
            "Mounted at /content/drive\n"
          ],
          "name": "stdout"
        }
      ]
    },
    {
      "cell_type": "code",
      "metadata": {
        "id": "E7puy9-xxS4A",
        "colab_type": "code",
        "colab": {}
      },
      "source": [
        "df = pd.read_csv('/content/drive/My Drive/Colab Notebooks/SalesData.csv')"
      ],
      "execution_count": 0,
      "outputs": []
    },
    {
      "cell_type": "code",
      "metadata": {
        "id": "xm9wa0tDc__3",
        "colab_type": "code",
        "outputId": "eebedea2-2eee-47c6-8036-a3407755c1b6",
        "colab": {
          "base_uri": "https://localhost:8080/",
          "height": 204
        }
      },
      "source": [
        "df.head()"
      ],
      "execution_count": 0,
      "outputs": [
        {
          "output_type": "execute_result",
          "data": {
            "text/html": [
              "<div>\n",
              "<style scoped>\n",
              "    .dataframe tbody tr th:only-of-type {\n",
              "        vertical-align: middle;\n",
              "    }\n",
              "\n",
              "    .dataframe tbody tr th {\n",
              "        vertical-align: top;\n",
              "    }\n",
              "\n",
              "    .dataframe thead th {\n",
              "        text-align: right;\n",
              "    }\n",
              "</style>\n",
              "<table border=\"1\" class=\"dataframe\">\n",
              "  <thead>\n",
              "    <tr style=\"text-align: right;\">\n",
              "      <th></th>\n",
              "      <th>Temperature</th>\n",
              "      <th>Revenue</th>\n",
              "    </tr>\n",
              "  </thead>\n",
              "  <tbody>\n",
              "    <tr>\n",
              "      <th>0</th>\n",
              "      <td>24.566884</td>\n",
              "      <td>534.799028</td>\n",
              "    </tr>\n",
              "    <tr>\n",
              "      <th>1</th>\n",
              "      <td>26.005191</td>\n",
              "      <td>625.190122</td>\n",
              "    </tr>\n",
              "    <tr>\n",
              "      <th>2</th>\n",
              "      <td>27.790554</td>\n",
              "      <td>660.632289</td>\n",
              "    </tr>\n",
              "    <tr>\n",
              "      <th>3</th>\n",
              "      <td>20.595335</td>\n",
              "      <td>487.706960</td>\n",
              "    </tr>\n",
              "    <tr>\n",
              "      <th>4</th>\n",
              "      <td>11.503498</td>\n",
              "      <td>316.240194</td>\n",
              "    </tr>\n",
              "  </tbody>\n",
              "</table>\n",
              "</div>"
            ],
            "text/plain": [
              "   Temperature     Revenue\n",
              "0    24.566884  534.799028\n",
              "1    26.005191  625.190122\n",
              "2    27.790554  660.632289\n",
              "3    20.595335  487.706960\n",
              "4    11.503498  316.240194"
            ]
          },
          "metadata": {
            "tags": []
          },
          "execution_count": 7
        }
      ]
    },
    {
      "cell_type": "code",
      "metadata": {
        "id": "RUt2ON_UxyYk",
        "colab_type": "code",
        "outputId": "a9a73e02-b0d9-478e-e290-63ab23dfbfb3",
        "colab": {
          "base_uri": "https://localhost:8080/",
          "height": 359
        }
      },
      "source": [
        "df.tail(10)"
      ],
      "execution_count": 0,
      "outputs": [
        {
          "output_type": "execute_result",
          "data": {
            "text/html": [
              "<div>\n",
              "<style scoped>\n",
              "    .dataframe tbody tr th:only-of-type {\n",
              "        vertical-align: middle;\n",
              "    }\n",
              "\n",
              "    .dataframe tbody tr th {\n",
              "        vertical-align: top;\n",
              "    }\n",
              "\n",
              "    .dataframe thead th {\n",
              "        text-align: right;\n",
              "    }\n",
              "</style>\n",
              "<table border=\"1\" class=\"dataframe\">\n",
              "  <thead>\n",
              "    <tr style=\"text-align: right;\">\n",
              "      <th></th>\n",
              "      <th>Temperature</th>\n",
              "      <th>Revenue</th>\n",
              "    </tr>\n",
              "  </thead>\n",
              "  <tbody>\n",
              "    <tr>\n",
              "      <th>490</th>\n",
              "      <td>23.824922</td>\n",
              "      <td>584.399945</td>\n",
              "    </tr>\n",
              "    <tr>\n",
              "      <th>491</th>\n",
              "      <td>34.472169</td>\n",
              "      <td>809.352520</td>\n",
              "    </tr>\n",
              "    <tr>\n",
              "      <th>492</th>\n",
              "      <td>23.056214</td>\n",
              "      <td>552.819351</td>\n",
              "    </tr>\n",
              "    <tr>\n",
              "      <th>493</th>\n",
              "      <td>14.931506</td>\n",
              "      <td>377.430928</td>\n",
              "    </tr>\n",
              "    <tr>\n",
              "      <th>494</th>\n",
              "      <td>25.112066</td>\n",
              "      <td>571.434257</td>\n",
              "    </tr>\n",
              "    <tr>\n",
              "      <th>495</th>\n",
              "      <td>22.274899</td>\n",
              "      <td>524.746364</td>\n",
              "    </tr>\n",
              "    <tr>\n",
              "      <th>496</th>\n",
              "      <td>32.893092</td>\n",
              "      <td>755.818399</td>\n",
              "    </tr>\n",
              "    <tr>\n",
              "      <th>497</th>\n",
              "      <td>12.588157</td>\n",
              "      <td>306.090719</td>\n",
              "    </tr>\n",
              "    <tr>\n",
              "      <th>498</th>\n",
              "      <td>22.362402</td>\n",
              "      <td>566.217304</td>\n",
              "    </tr>\n",
              "    <tr>\n",
              "      <th>499</th>\n",
              "      <td>28.957736</td>\n",
              "      <td>655.660388</td>\n",
              "    </tr>\n",
              "  </tbody>\n",
              "</table>\n",
              "</div>"
            ],
            "text/plain": [
              "     Temperature     Revenue\n",
              "490    23.824922  584.399945\n",
              "491    34.472169  809.352520\n",
              "492    23.056214  552.819351\n",
              "493    14.931506  377.430928\n",
              "494    25.112066  571.434257\n",
              "495    22.274899  524.746364\n",
              "496    32.893092  755.818399\n",
              "497    12.588157  306.090719\n",
              "498    22.362402  566.217304\n",
              "499    28.957736  655.660388"
            ]
          },
          "metadata": {
            "tags": []
          },
          "execution_count": 8
        }
      ]
    },
    {
      "cell_type": "code",
      "metadata": {
        "id": "hMq3-KWOx0e1",
        "colab_type": "code",
        "outputId": "fd060c2d-09f4-4ba1-aa36-0e5b26b91d1e",
        "colab": {
          "base_uri": "https://localhost:8080/",
          "height": 136
        }
      },
      "source": [
        "df.info()"
      ],
      "execution_count": 0,
      "outputs": [
        {
          "output_type": "stream",
          "text": [
            "<class 'pandas.core.frame.DataFrame'>\n",
            "RangeIndex: 500 entries, 0 to 499\n",
            "Data columns (total 2 columns):\n",
            "Temperature    500 non-null float64\n",
            "Revenue        500 non-null float64\n",
            "dtypes: float64(2)\n",
            "memory usage: 7.9 KB\n"
          ],
          "name": "stdout"
        }
      ]
    },
    {
      "cell_type": "code",
      "metadata": {
        "id": "s0E9xPLdx2Ok",
        "colab_type": "code",
        "outputId": "779a1d75-ac94-4b41-802d-c4c45994869c",
        "colab": {
          "base_uri": "https://localhost:8080/",
          "height": 297
        }
      },
      "source": [
        "df.describe()"
      ],
      "execution_count": 0,
      "outputs": [
        {
          "output_type": "execute_result",
          "data": {
            "text/html": [
              "<div>\n",
              "<style scoped>\n",
              "    .dataframe tbody tr th:only-of-type {\n",
              "        vertical-align: middle;\n",
              "    }\n",
              "\n",
              "    .dataframe tbody tr th {\n",
              "        vertical-align: top;\n",
              "    }\n",
              "\n",
              "    .dataframe thead th {\n",
              "        text-align: right;\n",
              "    }\n",
              "</style>\n",
              "<table border=\"1\" class=\"dataframe\">\n",
              "  <thead>\n",
              "    <tr style=\"text-align: right;\">\n",
              "      <th></th>\n",
              "      <th>Temperature</th>\n",
              "      <th>Revenue</th>\n",
              "    </tr>\n",
              "  </thead>\n",
              "  <tbody>\n",
              "    <tr>\n",
              "      <th>count</th>\n",
              "      <td>500.000000</td>\n",
              "      <td>500.000000</td>\n",
              "    </tr>\n",
              "    <tr>\n",
              "      <th>mean</th>\n",
              "      <td>22.232225</td>\n",
              "      <td>521.570777</td>\n",
              "    </tr>\n",
              "    <tr>\n",
              "      <th>std</th>\n",
              "      <td>8.096388</td>\n",
              "      <td>175.404751</td>\n",
              "    </tr>\n",
              "    <tr>\n",
              "      <th>min</th>\n",
              "      <td>0.000000</td>\n",
              "      <td>10.000000</td>\n",
              "    </tr>\n",
              "    <tr>\n",
              "      <th>25%</th>\n",
              "      <td>17.122258</td>\n",
              "      <td>405.558681</td>\n",
              "    </tr>\n",
              "    <tr>\n",
              "      <th>50%</th>\n",
              "      <td>22.392791</td>\n",
              "      <td>529.368565</td>\n",
              "    </tr>\n",
              "    <tr>\n",
              "      <th>75%</th>\n",
              "      <td>27.740674</td>\n",
              "      <td>642.257922</td>\n",
              "    </tr>\n",
              "    <tr>\n",
              "      <th>max</th>\n",
              "      <td>45.000000</td>\n",
              "      <td>1000.000000</td>\n",
              "    </tr>\n",
              "  </tbody>\n",
              "</table>\n",
              "</div>"
            ],
            "text/plain": [
              "       Temperature      Revenue\n",
              "count   500.000000   500.000000\n",
              "mean     22.232225   521.570777\n",
              "std       8.096388   175.404751\n",
              "min       0.000000    10.000000\n",
              "25%      17.122258   405.558681\n",
              "50%      22.392791   529.368565\n",
              "75%      27.740674   642.257922\n",
              "max      45.000000  1000.000000"
            ]
          },
          "metadata": {
            "tags": []
          },
          "execution_count": 10
        }
      ]
    },
    {
      "cell_type": "markdown",
      "metadata": {
        "id": "LlszUhNNyrl_",
        "colab_type": "text"
      },
      "source": [
        "# STEP 2: Visualize dataset"
      ]
    },
    {
      "cell_type": "code",
      "metadata": {
        "id": "TYcWopZVyvAs",
        "colab_type": "code",
        "outputId": "5bb6216c-dd5d-4a15-8283-e2640508a15f",
        "colab": {
          "base_uri": "https://localhost:8080/",
          "height": 296
        }
      },
      "source": [
        "sns.scatterplot(df['Temperature'], df['Revenue'])"
      ],
      "execution_count": 0,
      "outputs": [
        {
          "output_type": "execute_result",
          "data": {
            "text/plain": [
              "<matplotlib.axes._subplots.AxesSubplot at 0x7fee39242358>"
            ]
          },
          "metadata": {
            "tags": []
          },
          "execution_count": 11
        },
        {
          "output_type": "display_data",
          "data": {
            "image/png": "[encoded data removed]",
            "text/plain": [
              "<Figure size 432x288 with 1 Axes>"
            ]
          },
          "metadata": {
            "tags": []
          }
        }
      ]
    },
    {
      "cell_type": "markdown",
      "metadata": {
        "id": "Y0GmpAjG3GiH",
        "colab_type": "text"
      },
      "source": [
        "# STEP 3: Create testing and training dataset"
      ]
    },
    {
      "cell_type": "code",
      "metadata": {
        "id": "0-maV8hb9rYM",
        "colab_type": "code",
        "colab": {}
      },
      "source": [
        "X_train = df['Temperature']\n",
        "y_train = df['Revenue']"
      ],
      "execution_count": 0,
      "outputs": []
    },
    {
      "cell_type": "markdown",
      "metadata": {
        "id": "53qDZFRn3-S1",
        "colab_type": "text"
      },
      "source": [
        "# STEP 4: Build and train the model"
      ]
    },
    {
      "cell_type": "code",
      "metadata": {
        "id": "DqIp8uvJ3cGi",
        "colab_type": "code",
        "outputId": "96af400a-5833-4d68-c7af-ba7f1ad9d8d8",
        "colab": {
          "base_uri": "https://localhost:8080/",
          "height": 34
        }
      },
      "source": [
        "X_train.shape"
      ],
      "execution_count": 0,
      "outputs": [
        {
          "output_type": "execute_result",
          "data": {
            "text/plain": [
              "(500,)"
            ]
          },
          "metadata": {
            "tags": []
          },
          "execution_count": 14
        }
      ]
    },
    {
      "cell_type": "code",
      "metadata": {
        "id": "d4wfApza3cEc",
        "colab_type": "code",
        "outputId": "59173109-6723-403a-a312-70483cf3a6a4",
        "colab": {
          "base_uri": "https://localhost:8080/",
          "height": 34
        }
      },
      "source": [
        "y_train.shape"
      ],
      "execution_count": 0,
      "outputs": [
        {
          "output_type": "execute_result",
          "data": {
            "text/plain": [
              "(500,)"
            ]
          },
          "metadata": {
            "tags": []
          },
          "execution_count": 15
        }
      ]
    },
    {
      "cell_type": "code",
      "metadata": {
        "id": "Yl6fmPJj3cCX",
        "colab_type": "code",
        "colab": {}
      },
      "source": [
        "model = tf.keras.Sequential()\n",
        "model.add(tf.keras.layers.Dense(units=1, input_shape=[1]))"
      ],
      "execution_count": 0,
      "outputs": []
    },
    {
      "cell_type": "code",
      "metadata": {
        "id": "GUd71odB4v-i",
        "colab_type": "code",
        "outputId": "722e4581-c874-4aba-dae4-f55cdb94b89a",
        "colab": {
          "base_uri": "https://localhost:8080/",
          "height": 187
        }
      },
      "source": [
        "model.summary()"
      ],
      "execution_count": 0,
      "outputs": [
        {
          "output_type": "stream",
          "text": [
            "Model: \"sequential\"\n",
            "_________________________________________________________________\n",
            "Layer (type)                 Output Shape              Param #   \n",
            "=================================================================\n",
            "dense (Dense)                (None, 1)                 2         \n",
            "=================================================================\n",
            "Total params: 2\n",
            "Trainable params: 2\n",
            "Non-trainable params: 0\n",
            "_________________________________________________________________\n"
          ],
          "name": "stdout"
        }
      ]
    },
    {
      "cell_type": "code",
      "metadata": {
        "id": "BYmvNpNw5Act",
        "colab_type": "code",
        "colab": {}
      },
      "source": [
        "model.compile(optimizer = tf.keras.optimizers.Adam(0.5), loss = 'mean_squared_error')"
      ],
      "execution_count": 0,
      "outputs": []
    },
    {
      "cell_type": "code",
      "metadata": {
        "id": "tpia0VBS5Ljw",
        "colab_type": "code",
        "outputId": "d9be149f-bf0d-4843-d34d-b6cfef5f6d2e",
        "colab": {
          "base_uri": "https://localhost:8080/",
          "height": 1000
        }
      },
      "source": [
        "epochs_hist = model.fit(X_train, y_train, epochs = 100)"
      ],
      "execution_count": 0,
      "outputs": [
        {
          "output_type": "stream",
          "text": [
            "Epoch 1/100\n",
            "500/500 [==============================] - 1s 3ms/sample - loss: 226784.3894\n",
            "Epoch 2/100\n",
            "500/500 [==============================] - 0s 72us/sample - loss: 88072.7349\n",
            "Epoch 3/100\n",
            "500/500 [==============================] - 0s 80us/sample - loss: 22524.4046\n",
            "Epoch 4/100\n",
            "500/500 [==============================] - 0s 83us/sample - loss: 3691.5252\n",
            "Epoch 5/100\n",
            "500/500 [==============================] - 0s 72us/sample - loss: 766.2267\n",
            "Epoch 6/100\n",
            "500/500 [==============================] - 0s 71us/sample - loss: 715.5536\n",
            "Epoch 7/100\n",
            "500/500 [==============================] - 0s 74us/sample - loss: 705.1655\n",
            "Epoch 8/100\n",
            "500/500 [==============================] - 0s 80us/sample - loss: 679.0886\n",
            "Epoch 9/100\n",
            "500/500 [==============================] - 0s 80us/sample - loss: 677.3336\n",
            "Epoch 10/100\n",
            "500/500 [==============================] - 0s 88us/sample - loss: 676.9950\n",
            "Epoch 11/100\n",
            "500/500 [==============================] - 0s 82us/sample - loss: 676.3774\n",
            "Epoch 12/100\n",
            "500/500 [==============================] - 0s 84us/sample - loss: 675.9439\n",
            "Epoch 13/100\n",
            "500/500 [==============================] - 0s 78us/sample - loss: 675.0057\n",
            "Epoch 14/100\n",
            "500/500 [==============================] - 0s 73us/sample - loss: 674.7857\n",
            "Epoch 15/100\n",
            "500/500 [==============================] - 0s 95us/sample - loss: 673.9940\n",
            "Epoch 16/100\n",
            "500/500 [==============================] - 0s 77us/sample - loss: 673.9971\n",
            "Epoch 17/100\n",
            "500/500 [==============================] - 0s 73us/sample - loss: 672.9037\n",
            "Epoch 18/100\n",
            "500/500 [==============================] - 0s 73us/sample - loss: 672.9305\n",
            "Epoch 19/100\n",
            "500/500 [==============================] - 0s 75us/sample - loss: 671.9974\n",
            "Epoch 20/100\n",
            "500/500 [==============================] - 0s 77us/sample - loss: 670.5565\n",
            "Epoch 21/100\n",
            "500/500 [==============================] - 0s 67us/sample - loss: 670.9690\n",
            "Epoch 22/100\n",
            "500/500 [==============================] - 0s 68us/sample - loss: 669.2295\n",
            "Epoch 23/100\n",
            "500/500 [==============================] - 0s 75us/sample - loss: 674.0375\n",
            "Epoch 24/100\n",
            "500/500 [==============================] - 0s 77us/sample - loss: 669.1395\n",
            "Epoch 25/100\n",
            "500/500 [==============================] - 0s 69us/sample - loss: 666.7250\n",
            "Epoch 26/100\n",
            "500/500 [==============================] - 0s 74us/sample - loss: 665.8303\n",
            "Epoch 27/100\n",
            "500/500 [==============================] - 0s 71us/sample - loss: 665.9683\n",
            "Epoch 28/100\n",
            "500/500 [==============================] - 0s 73us/sample - loss: 664.7117\n",
            "Epoch 29/100\n",
            "500/500 [==============================] - 0s 73us/sample - loss: 664.6585\n",
            "Epoch 30/100\n",
            "500/500 [==============================] - 0s 73us/sample - loss: 663.5840\n",
            "Epoch 31/100\n",
            "500/500 [==============================] - 0s 67us/sample - loss: 662.7597\n",
            "Epoch 32/100\n",
            "500/500 [==============================] - 0s 69us/sample - loss: 662.3895\n",
            "Epoch 33/100\n",
            "500/500 [==============================] - 0s 76us/sample - loss: 661.4835\n",
            "Epoch 34/100\n",
            "500/500 [==============================] - 0s 76us/sample - loss: 660.3588\n",
            "Epoch 35/100\n",
            "500/500 [==============================] - 0s 66us/sample - loss: 660.6379\n",
            "Epoch 36/100\n",
            "500/500 [==============================] - 0s 78us/sample - loss: 658.7785\n",
            "Epoch 37/100\n",
            "500/500 [==============================] - 0s 70us/sample - loss: 657.1500\n",
            "Epoch 38/100\n",
            "500/500 [==============================] - 0s 72us/sample - loss: 657.6891\n",
            "Epoch 39/100\n",
            "500/500 [==============================] - 0s 68us/sample - loss: 657.9859\n",
            "Epoch 40/100\n",
            "500/500 [==============================] - 0s 83us/sample - loss: 655.4019\n",
            "Epoch 41/100\n",
            "500/500 [==============================] - 0s 72us/sample - loss: 654.9952\n",
            "Epoch 42/100\n",
            "500/500 [==============================] - 0s 98us/sample - loss: 657.9478\n",
            "Epoch 43/100\n",
            "500/500 [==============================] - 0s 69us/sample - loss: 654.0444\n",
            "Epoch 44/100\n",
            "500/500 [==============================] - 0s 70us/sample - loss: 653.0365\n",
            "Epoch 45/100\n",
            "500/500 [==============================] - 0s 66us/sample - loss: 654.1445\n",
            "Epoch 46/100\n",
            "500/500 [==============================] - 0s 85us/sample - loss: 650.3954\n",
            "Epoch 47/100\n",
            "500/500 [==============================] - 0s 71us/sample - loss: 651.2830\n",
            "Epoch 48/100\n",
            "500/500 [==============================] - 0s 63us/sample - loss: 655.6247\n",
            "Epoch 49/100\n",
            "500/500 [==============================] - 0s 63us/sample - loss: 649.5411\n",
            "Epoch 50/100\n",
            "500/500 [==============================] - 0s 63us/sample - loss: 648.7379\n",
            "Epoch 51/100\n",
            "500/500 [==============================] - 0s 68us/sample - loss: 647.7409\n",
            "Epoch 52/100\n",
            "500/500 [==============================] - 0s 78us/sample - loss: 648.3155\n",
            "Epoch 53/100\n",
            "500/500 [==============================] - 0s 74us/sample - loss: 646.8527\n",
            "Epoch 54/100\n",
            "500/500 [==============================] - 0s 68us/sample - loss: 646.5457\n",
            "Epoch 55/100\n",
            "500/500 [==============================] - 0s 74us/sample - loss: 647.6880\n",
            "Epoch 56/100\n",
            "500/500 [==============================] - 0s 72us/sample - loss: 643.9535\n",
            "Epoch 57/100\n",
            "500/500 [==============================] - 0s 84us/sample - loss: 643.7827\n",
            "Epoch 58/100\n",
            "500/500 [==============================] - 0s 75us/sample - loss: 643.8797\n",
            "Epoch 59/100\n",
            "500/500 [==============================] - 0s 71us/sample - loss: 642.4436\n",
            "Epoch 60/100\n",
            "500/500 [==============================] - 0s 83us/sample - loss: 643.7261\n",
            "Epoch 61/100\n",
            "500/500 [==============================] - 0s 70us/sample - loss: 642.2612\n",
            "Epoch 62/100\n",
            "500/500 [==============================] - 0s 66us/sample - loss: 640.9475\n",
            "Epoch 63/100\n",
            "500/500 [==============================] - 0s 68us/sample - loss: 643.4898\n",
            "Epoch 64/100\n",
            "500/500 [==============================] - 0s 66us/sample - loss: 640.1054\n",
            "Epoch 65/100\n",
            "500/500 [==============================] - 0s 75us/sample - loss: 640.2322\n",
            "Epoch 66/100\n",
            "500/500 [==============================] - 0s 80us/sample - loss: 638.1859\n",
            "Epoch 67/100\n",
            "500/500 [==============================] - 0s 83us/sample - loss: 638.2495\n",
            "Epoch 68/100\n",
            "500/500 [==============================] - 0s 93us/sample - loss: 637.7835\n",
            "Epoch 69/100\n",
            "500/500 [==============================] - 0s 75us/sample - loss: 638.9537\n",
            "Epoch 70/100\n",
            "500/500 [==============================] - 0s 84us/sample - loss: 636.4554\n",
            "Epoch 71/100\n",
            "500/500 [==============================] - 0s 77us/sample - loss: 637.5509\n",
            "Epoch 72/100\n",
            "500/500 [==============================] - 0s 76us/sample - loss: 636.1408\n",
            "Epoch 73/100\n",
            "500/500 [==============================] - 0s 82us/sample - loss: 636.4511\n",
            "Epoch 74/100\n",
            "500/500 [==============================] - 0s 65us/sample - loss: 635.1944\n",
            "Epoch 75/100\n",
            "500/500 [==============================] - 0s 71us/sample - loss: 634.8974\n",
            "Epoch 76/100\n",
            "500/500 [==============================] - 0s 87us/sample - loss: 634.4161\n",
            "Epoch 77/100\n",
            "500/500 [==============================] - 0s 73us/sample - loss: 634.4933\n",
            "Epoch 78/100\n",
            "500/500 [==============================] - 0s 87us/sample - loss: 634.3006\n",
            "Epoch 79/100\n",
            "500/500 [==============================] - 0s 73us/sample - loss: 633.5477\n",
            "Epoch 80/100\n",
            "500/500 [==============================] - 0s 81us/sample - loss: 635.4700\n",
            "Epoch 81/100\n",
            "500/500 [==============================] - 0s 70us/sample - loss: 637.1051\n",
            "Epoch 82/100\n",
            "500/500 [==============================] - 0s 76us/sample - loss: 631.1094\n",
            "Epoch 83/100\n",
            "500/500 [==============================] - 0s 66us/sample - loss: 633.3860\n",
            "Epoch 84/100\n",
            "500/500 [==============================] - 0s 86us/sample - loss: 631.0322\n",
            "Epoch 85/100\n",
            "500/500 [==============================] - 0s 72us/sample - loss: 632.3511\n",
            "Epoch 86/100\n",
            "500/500 [==============================] - 0s 86us/sample - loss: 631.4123\n",
            "Epoch 87/100\n",
            "500/500 [==============================] - 0s 72us/sample - loss: 631.8156\n",
            "Epoch 88/100\n",
            "500/500 [==============================] - 0s 71us/sample - loss: 636.6718\n",
            "Epoch 89/100\n",
            "500/500 [==============================] - 0s 91us/sample - loss: 629.7098\n",
            "Epoch 90/100\n",
            "500/500 [==============================] - 0s 103us/sample - loss: 630.0261\n",
            "Epoch 91/100\n",
            "500/500 [==============================] - 0s 80us/sample - loss: 629.7514\n",
            "Epoch 92/100\n",
            "500/500 [==============================] - 0s 79us/sample - loss: 631.5359\n",
            "Epoch 93/100\n",
            "500/500 [==============================] - 0s 111us/sample - loss: 631.3069\n",
            "Epoch 94/100\n",
            "500/500 [==============================] - 0s 71us/sample - loss: 631.5311\n",
            "Epoch 95/100\n",
            "500/500 [==============================] - 0s 81us/sample - loss: 628.5003\n",
            "Epoch 96/100\n",
            "500/500 [==============================] - 0s 67us/sample - loss: 634.9349\n",
            "Epoch 97/100\n",
            "500/500 [==============================] - 0s 78us/sample - loss: 629.7549\n",
            "Epoch 98/100\n",
            "500/500 [==============================] - 0s 78us/sample - loss: 628.3328\n",
            "Epoch 99/100\n",
            "500/500 [==============================] - 0s 79us/sample - loss: 627.3788\n",
            "Epoch 100/100\n",
            "500/500 [==============================] - 0s 73us/sample - loss: 631.3918\n"
          ],
          "name": "stdout"
        }
      ]
    },
    {
      "cell_type": "markdown",
      "metadata": {
        "id": "-wRQqOeB5Zh5",
        "colab_type": "text"
      },
      "source": [
        "# STEP 5: Evaluate the model"
      ]
    },
    {
      "cell_type": "code",
      "metadata": {
        "id": "dfUb63035TJL",
        "colab_type": "code",
        "outputId": "332124fc-789c-404e-bef8-53fedbfcd32c",
        "colab": {
          "base_uri": "https://localhost:8080/",
          "height": 34
        }
      },
      "source": [
        "epochs_hist.history.keys()"
      ],
      "execution_count": 0,
      "outputs": [
        {
          "output_type": "execute_result",
          "data": {
            "text/plain": [
              "dict_keys(['loss'])"
            ]
          },
          "metadata": {
            "tags": []
          },
          "execution_count": 23
        }
      ]
    },
    {
      "cell_type": "code",
      "metadata": {
        "id": "eXiDop_l5erJ",
        "colab_type": "code",
        "outputId": "c4d5a8ca-e769-400e-daf7-60f68c0b1961",
        "colab": {
          "base_uri": "https://localhost:8080/",
          "height": 312
        }
      },
      "source": [
        "plt.plot(epochs_hist.history['loss'])\n",
        "plt.title('Model Loss Progress During Training')\n",
        "plt.xlabel('Epochs')\n",
        "plt.ylabel('Training Loss')\n",
        "plt.legend(['Training Loss'])"
      ],
      "execution_count": 0,
      "outputs": [
        {
          "output_type": "execute_result",
          "data": {
            "text/plain": [
              "<matplotlib.legend.Legend at 0x7fee2054c320>"
            ]
          },
          "metadata": {
            "tags": []
          },
          "execution_count": 25
        },
        {
          "output_type": "display_data",
          "data": {
            "image/png": "[encoded data removed]",
            "text/plain": [
              "<Figure size 432x288 with 1 Axes>"
            ]
          },
          "metadata": {
            "tags": []
          }
        }
      ]
    },
    {
      "cell_type": "code",
      "metadata": {
        "id": "yFYpuUJWBn6L",
        "colab_type": "code",
        "outputId": "b482e767-6ef9-4a1a-9d6d-6fd5c17dd5f2",
        "colab": {
          "base_uri": "https://localhost:8080/",
          "height": 34
        }
      },
      "source": [
        "model.get_weights()"
      ],
      "execution_count": 0,
      "outputs": [
        {
          "output_type": "execute_result",
          "data": {
            "text/plain": [
              "[array([[21.708271]], dtype=float32), array([39.540253], dtype=float32)]"
            ]
          },
          "metadata": {
            "tags": []
          },
          "execution_count": 26
        }
      ]
    },
    {
      "cell_type": "code",
      "metadata": {
        "id": "isfjfT735fjD",
        "colab_type": "code",
        "outputId": "2406a0c5-1871-4524-f03a-fd56b2673e58",
        "colab": {
          "base_uri": "https://localhost:8080/",
          "height": 34
        }
      },
      "source": [
        "# Use the trained model to perform predictions\n",
        "n = 0\n",
        "Temp1 = n\n",
        "Rev1 = model.predict([Temp1])\n",
        "print('Revenue Predictions Using Trained ANN when Temperature =',n, Rev1)"
      ],
      "execution_count": 0,
      "outputs": [
        {
          "output_type": "stream",
          "text": [
            "Revenue Predictions Using Trained ANN when Temperature = 0 [[39.540253]]\n"
          ],
          "name": "stdout"
        }
      ]
    },
    {
      "cell_type": "code",
      "metadata": {
        "id": "CnbDTixOaB-V",
        "colab_type": "code",
        "outputId": "12f38b31-e376-4c77-b146-4a351b38a9b2",
        "colab": {
          "base_uri": "https://localhost:8080/",
          "height": 312
        }
      },
      "source": [
        "plt.scatter(X_train, y_train, color = 'grey')\n",
        "plt.plot(X_train, model.predict(X_train), color = 'red')\n",
        "plt.title('Revenue Generated vs. Temperature')\n",
        "plt.xlabel('Temperature [degC]')\n",
        "plt.ylabel('Revenue [dollars]')"
      ],
      "execution_count": 0,
      "outputs": [
        {
          "output_type": "execute_result",
          "data": {
            "text/plain": [
              "Text(0, 0.5, 'Revenue [dollars]')"
            ]
          },
          "metadata": {
            "tags": []
          },
          "execution_count": 38
        },
        {
          "output_type": "display_data",
          "data": {
            "image/png": "[encoded data removed]",
            "text/plain": [
              "<Figure size 432x288 with 1 Axes>"
            ]
          },
          "metadata": {
            "tags": []
          }
        }
      ]
    },
    {
      "cell_type": "markdown",
      "metadata": {
        "id": "_dXoZAtVcbfA",
        "colab_type": "text"
      },
      "source": [
        "# STEP 6: Confirm using regression kit in scikit learn"
      ]
    },
    {
      "cell_type": "code",
      "metadata": {
        "id": "9L6vMQ6ddfSd",
        "colab_type": "code",
        "colab": {}
      },
      "source": [
        "X_train = X_train.values.reshape(-1,1)"
      ],
      "execution_count": 0,
      "outputs": []
    },
    {
      "cell_type": "code",
      "metadata": {
        "id": "c9Gy-mQ0dj0V",
        "colab_type": "code",
        "outputId": "f3e6cda2-e6be-4c7f-e4ba-e5828b31cdbb",
        "colab": {
          "base_uri": "https://localhost:8080/",
          "height": 34
        }
      },
      "source": [
        "X_train.shape"
      ],
      "execution_count": 0,
      "outputs": [
        {
          "output_type": "execute_result",
          "data": {
            "text/plain": [
              "(500, 1)"
            ]
          },
          "metadata": {
            "tags": []
          },
          "execution_count": 41
        }
      ]
    },
    {
      "cell_type": "code",
      "metadata": {
        "id": "T93r6_HKdoMU",
        "colab_type": "code",
        "colab": {}
      },
      "source": [
        "y_train = y_train.values.reshape(-1,1)"
      ],
      "execution_count": 0,
      "outputs": []
    },
    {
      "cell_type": "code",
      "metadata": {
        "id": "Vepk9aIQq7Mf",
        "colab_type": "code",
        "outputId": "633a3ad9-9666-4ff5-9613-4b7faa41597e",
        "colab": {
          "base_uri": "https://localhost:8080/",
          "height": 34
        }
      },
      "source": [
        "y_train.shape"
      ],
      "execution_count": 0,
      "outputs": [
        {
          "output_type": "execute_result",
          "data": {
            "text/plain": [
              "(500, 1)"
            ]
          },
          "metadata": {
            "tags": []
          },
          "execution_count": 43
        }
      ]
    },
    {
      "cell_type": "code",
      "metadata": {
        "id": "L5bpK-EWcW1b",
        "colab_type": "code",
        "outputId": "d800a47a-ebaf-49c0-9b7c-3f0d93822f13",
        "colab": {
          "base_uri": "https://localhost:8080/",
          "height": 34
        }
      },
      "source": [
        "from sklearn.linear_model import LinearRegression\n",
        "regressor = LinearRegression(fit_intercept = True)\n",
        "regressor.fit(X_train, y_train)"
      ],
      "execution_count": 0,
      "outputs": [
        {
          "output_type": "execute_result",
          "data": {
            "text/plain": [
              "LinearRegression(copy_X=True, fit_intercept=True, n_jobs=None, normalize=False)"
            ]
          },
          "metadata": {
            "tags": []
          },
          "execution_count": 44
        }
      ]
    },
    {
      "cell_type": "code",
      "metadata": {
        "id": "uUyzZYAHcrgs",
        "colab_type": "code",
        "outputId": "513da5ec-df49-4a55-f917-fe49ade910fe",
        "colab": {
          "base_uri": "https://localhost:8080/",
          "height": 51
        }
      },
      "source": [
        "print('Linear Model Coefficient (m):', regressor.coef_)\n",
        "print('Linear Model Coefficient (b):', regressor.intercept_)"
      ],
      "execution_count": 0,
      "outputs": [
        {
          "output_type": "stream",
          "text": [
            "Linear Model Coefficient (m): [[21.44362551]]\n",
            "Linear Model Coefficient (b): [44.83126709]\n"
          ],
          "name": "stdout"
        }
      ]
    },
    {
      "cell_type": "code",
      "metadata": {
        "id": "BQRkG80MdycN",
        "colab_type": "code",
        "outputId": "6b001fad-a8b0-4d5c-c8f6-c70725911952",
        "colab": {
          "base_uri": "https://localhost:8080/",
          "height": 312
        }
      },
      "source": [
        "plt.scatter(X_train, y_train, color = 'grey')\n",
        "plt.plot(X_train, regressor.predict(X_train), color = 'red')\n",
        "plt.title('Revenue Generated vs. Temperature')\n",
        "plt.xlabel('Temperature [degC]')\n",
        "plt.ylabel('Revenue [dollars]')"
      ],
      "execution_count": 0,
      "outputs": [
        {
          "output_type": "execute_result",
          "data": {
            "text/plain": [
              "Text(0, 0.5, 'Revenue [dollars]')"
            ]
          },
          "metadata": {
            "tags": []
          },
          "execution_count": 46
        },
        {
          "output_type": "display_data",
          "data": {
            "image/png": "[encoded data removed]",
            "text/plain": [
              "<Figure size 432x288 with 1 Axes>"
            ]
          },
          "metadata": {
            "tags": []
          }
        }
      ]
    }
  ]
}